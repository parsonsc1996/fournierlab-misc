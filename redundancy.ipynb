{
 "cells": [
  {
   "cell_type": "code",
   "execution_count": 1,
   "metadata": {},
   "outputs": [
    {
     "name": "stdout",
     "output_type": "stream",
     "text": [
      "Requirement already satisfied: scipy in /nfs/software001/home/software/anaconda3/2020.11/lib/python3.8/site-packages (1.5.2)\n",
      "Requirement already satisfied: numpy>=1.14.5 in /nfs/software001/home/software/anaconda3/2020.11/lib/python3.8/site-packages (from scipy) (1.19.2)\n"
     ]
    }
   ],
   "source": [
    "# Uncomment the approiate lines if you get ModuleNotFoundError\n",
    "#!pip install --user biopython\n",
    "#!pip install --user numpy\n",
    "#!pip install --user matplotlib\n",
    "!pip install --user scipy"
   ]
  },
  {
   "cell_type": "code",
   "execution_count": 32,
   "metadata": {},
   "outputs": [],
   "source": [
    "from Bio import pairwise2\n",
    "\n",
    "import matplotlib.pyplot as plt\n",
    "import numpy as np\n",
    "from scipy.stats import gaussian_kde\n",
    "\n",
    "from datetime import datetime"
   ]
  },
  {
   "cell_type": "code",
   "execution_count": 27,
   "metadata": {},
   "outputs": [],
   "source": [
    "# This notebook is intended as a method to downsample redundant sequences\n",
    "# from an unaligned fasta-formatted file, based on sequence similarity. \n",
    "# Aligned fasta files are treated as though they were unaligned.\n",
    "# Not at all high-throughput. Designed for targetted phylogenies of genes of interest.\n",
    "\n",
    "# Define path to input file and desired output path and name\n",
    "# (If this notebook is in the same directory as your files,\n",
    "# you can just use the file names)\n",
    "fastaPath = \"M10_40_HEHM.afa\"\n",
    "outPath = \"M10_40_HEHM_NR.afa\"\n",
    "\n",
    "# Define the minimum proportion of identical sites at\n",
    "# which to deem a sequence redundant (and therefore exclude it)\n",
    "# The lower the value, the more sequences will be removed.\n",
    "redundancyCutoff = 0.95"
   ]
  },
  {
   "cell_type": "code",
   "execution_count": 35,
   "metadata": {},
   "outputs": [],
   "source": [
    "# Read the fasta file and store it as a list of lists sorted \n",
    "# by sequence length, long to short. \n",
    "# [[\"ID1\", \"sequence1\"], [\"ID2\", \"sequence2\"], ...]\n",
    "\n",
    "seqList = []\n",
    "with open(fastaPath) as inFile:\n",
    "    cur = None\n",
    "    for line in inFile:\n",
    "        line = line.strip()\n",
    "        if not line:\n",
    "            continue\n",
    "        if line[0] == '>':\n",
    "            if cur:\n",
    "                seqList.append(cur)\n",
    "            cur = [line[1:], \"\"]\n",
    "        else:\n",
    "            cur[1] += line.replace('-', '')\n",
    "\n",
    "seqList.sort(key=lambda x:-len(x[1]))\n",
    "seqList = seqList[:]"
   ]
  },
  {
   "cell_type": "code",
   "execution_count": 39,
   "metadata": {},
   "outputs": [
    {
     "name": "stdout",
     "output_type": "stream",
     "text": [
      "File contains 16989 sequences \n",
      "Average sequence length: 146.92783565836717\n"
     ]
    },
    {
     "data": {
      "image/png": "[encoded data removed]",
      "text/plain": [
       "<Figure size 432x288 with 1 Axes>"
      ]
     },
     "metadata": {
      "needs_background": "light"
     },
     "output_type": "display_data"
    }
   ],
   "source": [
    "# Plot density distribution of sequence lengths.\n",
    "# A step to remove especially long or short sequences\n",
    "# could be added here, but I personally prefer to do that\n",
    "# after I've seen the alignment. A ton of the short sequences\n",
    "# will be deemed redundant anyway.\n",
    "\n",
    "lengths = np.array([len(seq[1]) for seq in seqList])\n",
    "density = gaussian_kde(lengths)\n",
    "# Decrease this value to increase resolution:\n",
    "density.covariance_factor = lambda : .25 \n",
    "density._compute_covariance()\n",
    "xs = np.linspace(int(min(lengths) * 0.9), int(max(lengths) * 1.1), 100)\n",
    "\n",
    "fig, ax = plt.subplots()\n",
    "ax.plot(xs, density(xs))\n",
    "ax.set_xlabel(\"Sequence Length\")\n",
    "ax.set_ylabel(\"Density\")\n",
    "print(\"File contains\", lengths.shape[0], \"sequences\", \"\\nAverage sequence length:\", np.mean(lengths))"
   ]
  },
  {
   "cell_type": "code",
   "execution_count": null,
   "metadata": {},
   "outputs": [],
   "source": [
    "# Pairwise align all pairs of sequences, except for those already \n",
    "# determined to be redundant (in previous iterations of the loop). \n",
    "# Compare percentage of matching sites to redunancy cutoff.\n",
    "\n",
    "# Since the list of sequences is sorted by descending length,\n",
    "# the longer sequence is always kept when two sequences are\n",
    "# found to be redundant. Probably debatable.\n",
    "\n",
    "# Runtime grows exponentially with number of sequences and with \n",
    "# average sequence length, but using a lower redundancy cutoff can \n",
    "# bring it closer to linear\n",
    "\n",
    "redundantIndices = []\n",
    "numSeqs = len(seqList)\n",
    "for i in range(numSeqs - 1):\n",
    "    start = datetime.now()\n",
    "    if i in redundantIndices:\n",
    "        continue\n",
    "    curID, curSeq = seqList[i]\n",
    "    \n",
    "    for j in range(i + 1, numSeqs):\n",
    "        if j in redundantIndices:\n",
    "            continue\n",
    "        compID, compSeq = seqList[j]\n",
    "        numIdent = pairwise2.align.globalmx(curSeq, compSeq, 1, 0, score_only=True)\n",
    "        # Calculating percent identical sites using the length of the shorter sequence\n",
    "        # as the denominator, as the length of the shorter sequence is the maximum number\n",
    "        # of identical sites\n",
    "        percIdent = numIdent / len(compSeq)\n",
    "        #print(i, j, percIdent, percIdent > redundancyCutoff)\n",
    "        \n",
    "        if percIdent > redundancyCutoff:\n",
    "            #print(i, len(curSeq), j, len(compSeq), numIdent, percIdent)\n",
    "            #print(pairwise2.format_alignment(*pairwise2.align.globalmx(curSeq, compSeq, 1, 0)[0]))\n",
    "            redundantIndices.append(j)\n",
    "            \n",
    "#print(redundantIndices)\n",
    "print(len(redunantIndices), \"redundant sequences found.\\nTotal runtime:\", datetime.now() - start)"
   ]
  },
  {
   "cell_type": "code",
   "execution_count": 38,
   "metadata": {},
   "outputs": [
    {
     "name": "stdout",
     "output_type": "stream",
     "text": [
      "Output saved to M10_40_HEHM_NR.afa\n",
      "10223 sequences removed, 6766 sequences remain\n"
     ]
    }
   ],
   "source": [
    "with open(outPath, 'w') as outFile:\n",
    "    for i in [x for x in range(numSeqs) if x not in redundantIndices]:\n",
    "        seqID, seq = seqList[i]\n",
    "        outFile.write(\">\" + seqID + \"\\n\" + seq + \"\\n\")\n",
    "        \n",
    "print(\"Output saved to %s\\n%i sequences removed, %i sequences remain\" % (outPath, len(redundantIndices), numSeqs - len(redundantIndices)))"
   ]
  }
 ],
 "metadata": {
  "kernelspec": {
   "display_name": "Python 3",
   "language": "python",
   "name": "python3"
  },
  "language_info": {
   "codemirror_mode": {
    "name": "ipython",
    "version": 3
   },
   "file_extension": ".py",
   "mimetype": "text/x-python",
   "name": "python",
   "nbconvert_exporter": "python",
   "pygments_lexer": "ipython3",
   "version": "3.8.5"
  }
 },
 "nbformat": 4,
 "nbformat_minor": 4
}
