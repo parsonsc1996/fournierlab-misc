{
 "cells": [
  {
   "cell_type": "code",
   "execution_count": 1,
   "metadata": {},
   "outputs": [],
   "source": [
    "import ete3"
   ]
  },
  {
   "cell_type": "code",
   "execution_count": 2,
   "metadata": {},
   "outputs": [],
   "source": [
    "tree = ete3.Tree(\"example.tree\", format=1)"
   ]
  },
  {
   "cell_type": "code",
   "execution_count": 3,
   "metadata": {},
   "outputs": [
    {
     "name": "stdout",
     "output_type": "stream",
     "text": [
      "150\n",
      "298\n"
     ]
    }
   ],
   "source": [
    "# Generates a list of ete3 objects with all possible rootings\n",
    "roots = []\n",
    "print(len(tree))\n",
    "for node in tree.traverse():\n",
    "    t = tree.copy()\n",
    "    # Finds leaf names of the subtree\n",
    "    if node.is_root() or node.up.is_root():\n",
    "        roots.append(t)\n",
    "        continue\n",
    "    elif node.is_leaf():\n",
    "        og = [node.name]\n",
    "    else:\n",
    "        og = [x.name for x in node.get_leaves()]   \n",
    "    \n",
    "    # Reroots on subtree leaves\n",
    "    if len(og) > 1:\n",
    "        lca = t.get_common_ancestor(og)\n",
    "        t.set_outgroup(lca)\n",
    "    else:\n",
    "        t.set_outgroup(og[0])\n",
    "    \n",
    "    # Optimizes root placements\n",
    "    \"\"\"c_a, c_b = t.get_children()\n",
    "    root_len = c_a.dist + c_b.dist\n",
    "    c_a_dist_to_root = sum([x.get_distance(t) for x in c_a.get_leaves()]) / len(c_a)\n",
    "    c_b_dist_to_root = sum([x.get_distance(t) for x in c_b.get_leaves()]) / len(c_b)\n",
    "    diff = c_a_dist_to_root - c_b_dist_to_root\n",
    "    if diff > 0:\n",
    "        if diff < root_len:\n",
    "            extra = (root_len - diff) / 2\n",
    "            c_a.dist = extra\n",
    "            c_b.dist = extra + diff\n",
    "        else:\n",
    "            c_a.dist = 0.05 * root_len\n",
    "            c_b.dist = 0.95 * root_len\n",
    "    if diff < 0:\n",
    "        diff = abs(diff)\n",
    "        if diff < root_len:\n",
    "            extra = (root_len - diff) / 2\n",
    "            c_a.dist = extra + diff\n",
    "            c_b.dist = extra\n",
    "        else:\n",
    "            c_a.dist = 0.95 * root_len\n",
    "            c_b.dist = 0.05 * root_len\"\"\"\n",
    "\n",
    "    roots.append(t)\n",
    "\n",
    "print(len(roots))"
   ]
  },
  {
   "cell_type": "code",
   "execution_count": 4,
   "metadata": {},
   "outputs": [],
   "source": [
    "# Calculates an AD score for each possible rooting\n",
    "n_taxa = len(tree)\n",
    "ADs = []\n",
    "\n",
    "for i in range(len(roots)):\n",
    "    t = roots[i]\n",
    "    all_leaves = list(t.get_leaves())\n",
    "    deviations = []\n",
    "    \n",
    "    for i in range(n_taxa):\n",
    "        for j in range(i + 1, n_taxa):\n",
    "            leaf_b = all_leaves[i]\n",
    "            leaf_c = all_leaves[j]\n",
    "            ca = t.get_common_ancestor([leaf_b, leaf_c])\n",
    "            \n",
    "            d_ab = ca.get_distance(leaf_b)\n",
    "            d_bc = leaf_b.get_distance(leaf_c)\n",
    "            dev = abs((2 * d_ab / d_bc) - 1)\n",
    "            deviations.append(dev)\n",
    "            \n",
    "    AD = (sum([x**2 for x in deviations])/len(deviations))**0.5\n",
    "    ADs.append(AD)"
   ]
  },
  {
   "cell_type": "code",
   "execution_count": 5,
   "metadata": {},
   "outputs": [],
   "source": [
    "import matplotlib.pyplot as plt"
   ]
  },
  {
   "cell_type": "code",
   "execution_count": 6,
   "metadata": {},
   "outputs": [
    {
     "data": {
      "text/plain": [
       "Text(0, 0.5, 'Count')"
      ]
     },
     "execution_count": 6,
     "metadata": {},
     "output_type": "execute_result"
    },
    {
     "data": {
      "image/png": "[encoded data removed]",
      "text/plain": [
       "<Figure size 432x288 with 1 Axes>"
      ]
     },
     "metadata": {
      "needs_background": "light"
     },
     "output_type": "display_data"
    }
   ],
   "source": [
    "plt.hist(ADs)\n",
    "plt.xlabel(\"AD score\")\n",
    "plt.ylabel(\"Count\")"
   ]
  },
  {
   "cell_type": "code",
   "execution_count": 7,
   "metadata": {},
   "outputs": [],
   "source": [
    "unbalanced = [abs(len(x.get_children()[0]) - len(x.get_children()[1])) for x in roots]"
   ]
  },
  {
   "cell_type": "code",
   "execution_count": 8,
   "metadata": {},
   "outputs": [
    {
     "data": {
      "text/plain": [
       "Text(0.5, 0, 'AD score')"
      ]
     },
     "execution_count": 8,
     "metadata": {},
     "output_type": "execute_result"
    },
    {
     "data": {
      "image/png": "[encoded data removed]",
      "text/plain": [
       "<Figure size 432x288 with 1 Axes>"
      ]
     },
     "metadata": {
      "needs_background": "light"
     },
     "output_type": "display_data"
    }
   ],
   "source": [
    "plt.scatter(ADs, unbalanced)\n",
    "plt.ylabel(\"Imbalance\")\n",
    "plt.xlabel(\"AD score\")"
   ]
  },
  {
   "cell_type": "code",
   "execution_count": null,
   "metadata": {},
   "outputs": [],
   "source": [
    "print(min(ADs))\n",
    "lowest_ind = ADs.index(min(ADs))\n",
    "print(roots[lowest_ind].write(format=1))"
   ]
  },
  {
   "cell_type": "code",
   "execution_count": 9,
   "metadata": {},
   "outputs": [
    {
     "name": "stdout",
     "output_type": "stream",
     "text": [
      "(m|7719|XP_002130040.1:0.186882,((((((((((m|31234|XP_003108577.1:0.008327,m|31234|OZF99276.1:3e-06):1.35143,(m|6334|KRY41164.1:2.01883,m|31234|XP_003088317.1:0.537177):0.144407):0.236845,(m|53326|EYC27775.1:0.095233,m|40348|VDM79982.1:0.362371):0.251473):0.123602,m|6279|XP_001901146.1:0.388429):0.089176,((((((0.2788424543687966:0.394422,((m|6945|XP_029843852.1:0.012595,m|6945|XP_029843850.1:0.002453)0.2986777020849503:0.375121,(m|8030|XP_013996146.1:0.363685,(m|8355|NP_001084901.1:3e-06,m|8355|XP_018087441.1:3e-06):0.258099):0.516297)0.28326283826032295:0.269062)0.2274303432081486:1.4427,0.2157393918494152:1.3428)0.2039721322238825:0.210058,(((0.28793110617799755:0.290433,((0.2964740865416377:0.097174,0.29642107914152704:0.092164)0.2944587194060252:0.027687,0.29483271512010334:0.071165)0.28904866678354635:0.126674)0.24601981848004095:0.932165,(((((((((((((((m|6945|XP_029839301.1:0.032739,m|6945|XP_029843369.1:0.028607):1.9819,b|1827606|PIG77070.1:0.765002):0.179682,b|2058924|WP_103549579.1:0.839387):0.30614,b|2026724|RMG85220.1:0.591686):0.158353,b|1817868|OGG56055.1:0.561855):0.056534,(((b|43357|WP_052360461.1:0.973642,(b|1889|WP_148663845.1:0.111379,b|1703922|OKI74985.1:0.139266):0.80875):0.173667,(b|1827605|PKB40874.1:0.350748,((b|1938|WP_107083829.1:0.390986,b|1881019|SEB67473.1:0.271086):0.084461,b|1890|KOG73169.1:0.367273):0.072037):0.440578):0.087866,(((b|1961111|OQY87754.1:1.19166,b|1453999|KFB76267.1:0.956893):0.065087,((b|41|WP_013375013.1:0.857854,b|1913989|OQY53567.1:1.09871):0.156984,b|401053|WP_013568801.1:1.86544):0.294777):0.098317,(b|2496767|WP_127324212.1:3e-06,b|2493680|AZO61218.1:0.019101):1.19578):0.265167):0.074842):0.063328,b|1325107|WP_128935831.1:0.859154):0.134489,((((((b|118322|WP_023065042.1:0.191881,b|938406|WP_096648627.1:0.185437):0.678724,b|1932668|WP_086837249.1:0.818775):0.147408,(b|1932667|WP_086762700.1:0.5807,b|1503470|OWY65263.1:0.472057):0.473132):0.173538,(((b|1502726|WP_108936133.1:0.047476,b|449440|GBE74850.1:0.042824):0.108781,b|2569534|GEA25616.1:0.269641):0.158529,b|1881015|OCQ96040.1:0.21505):0.458792):0.059131,(((b|92942|WP_099068127.1:0.578381,b|1155739|WP_071104193.1:0.606487):0.114682,b|1972444|OQY55980.1:0.957894):0.05368,b|1844469|RCJ33513.1:0.436372):0.446075):0.108979,((((b|1973475|WP_096683694.1:0.518132,b|372787|WP_102166366.1:0.722376):0.074222,(b|1954172|WP_096604472.1:0.093606,b|1541975|WP_096716294.1:0.123543):0.296381):0.153708,(b|2005463|WP_096687122.1:0.774971,b|92942|WP_099069965.1:0.51274):0.127015):0.374372,((b|2005458|WP_096554199.1:0.239569,b|54299|WP_015154088.1:0.544302):0.065547,b|489825|WP_008181024.1:0.424424):0.275117):0.194649):0.142342):0.175521,((b|1919118|PSQ95458.1:1.52425,((b|1003181|OAD19320.1:0.73253,b|2126343|VFK50919.1:0.708269):0.381189,b|551947|WP_139024726.1:0.587976):0.120556):0.200721,b|48|WP_053065959.1:1.19933):0.113371):0.112079,(((((b|1501433|WP_019487161.1:0.237856,b|1151|TAF88649.1:0.347614):0.447516,b|671068|CUR23460.1:1.14714):0.286104,((((b|1932668|WP_086835771.1:0.256215,(b|2005456|WP_096675213.1:0.033687,b|1174528|WP_017310508.1:0.043534):0.236411):0.151063,((b|987040|WP_095720104.1:0.154273,b|32057|WP_026092806.1:0.157266):0.309521,b|92938|WP_102205193.1:0.406139):0.071535):0.095371,(b|1729650|WP_144017640.1:0.150442,b|671071|CUR20720.1:0.140658):0.423806):0.162418,b|1954172|WP_096607671.1:0.592162):0.124804):0.132503,(b|264691|WP_127053334.1:0.224131,b|1206980|WP_099100542.1:0.453705):0.902882):0.130994,b|1678133|OBQ19295.1:1.24876):0.136583)0.29668958973558324:0.122824,((((((((b|2483801|RNJ67235.1:0.50013,b|2420337|RMF62994.1:0.511334):0.146503,b|1932621|WP_086689320.1:0.397282):0.044703,b|155978|WP_012166342.1:0.61561):0.091189,b|927677|WP_009633886.1:0.64834):0.032154,(b|1932667|WP_086762590.1:0.162613,b|1973483|BAY34319.1:0.192368):0.427282):0.029338,(((b|2529855|KAB0242042.1:0.009505,b|1134457|ELP56091.1:0.027179):1.10959,(((b|1173020|WP_015159397.1:0.660981,b|1881015|OCQ92716.1:0.545299):0.041806,b|1173024|WP_026735542.1:0.48209):0.041737,b|1487953|WP_036002104.1:0.669696):0.020147):0.020912,(b|1853259|WP_071192010.1:0.520056,b|1173027|WP_015180591.1:0.399944):0.066912):0.052986):0.032062,((((b|2045280|BBH93229.1:0.8275,b|2014871|WP_126583239.1:0.844366):0.177748,b|2005458|WP_096553202.1:0.437238):0.030503,(((b|2014531|WP_094346412.1:0.179479,b|1136105|WP_041039896.1:0.216684):0.201031,(b|372787|WP_102219458.1:0.253412,(b|34078|WP_017739790.1:0.304265,b|2107696|WP_106216925.1:0.306823):0.042641):0.117604):0.080953,((b|1416614|WP_081705157.1:0.506228,b|240292|WP_011319570.1:0.507111):0.097602,b|1932621|WP_086691287.1:0.629486):0.080688):0.062643):0.03731,(b|2005459|GAX39131.1:0.33903,b|1752063|WP_062249877.1:0.670645):0.083086):0.020663):0.387575,((((b|232991|RUS92892.1:0.533705,b|379064|WP_099436452.1:1.05338):0.44798,b|1479485|KIE08130.1:0.623459):0.111816,b|2480854|TKZ24680.1:0.607729):0.14358,b|1973481|BAZ84959.1:0.283668):0.143805):0.082817)0.289168970359032:0.066249,(0.2910634348612491:1.44227,0.2916838103292482:1.00762)0.28402445734505166:0.074923)0.2779284417165883:0.068807,0.2800317782274404:0.775586)0.26085737581333035:0.150564,(0.261406794953684:0.379441,0.26356109906532105:0.895832)0.25308379269216097:0.119926)0.24843819377974885:0.032157,((0.25400316759284186:1.60921,0.2543469593445473:1.43537)0.24613447908696895:0.010017,((m|9031|NP_001025730.2:0.192495,m|10090|BAB26884.1:0.089073)0.29366290714636656:0.51976,0.2897331397311872:0.427436)0.25476811282283124:1.79732)0.2459241772235217:0.137717)0.23036026794811346:0.251571)0.2156592177454114:0.079083,(0.22359953934905386:1.7187,0.2234375394817717:1.80659)0.21276501578273518:0.338462)0.20700177113844193:0.145875)0.23651524556861053:1.28522,m|669202|KII62755.1:1.23889):0.141701,(m|34765|CBY36354.1:0.736586,m|34765|CBY08856.1:0.778546):0.25622):0.086208,m|6334|XP_003372422.1:0.896629):0.159705):0.118737,m|6198|XP_009168773.1:0.658127):0.142519,(m|400727|XP_025106524.1:0.165634,m|6565|XP_022332030.1:0.15339):0.06397):0.023223,m|6850|XP_013780980.1:0.172206):0.022608,m|6689|XP_027235841.1:0.253434):0.027088,m|37621|XP_014675309.1:0.19142):0.096324,((((m|259920|XP_020366429.1:0.048397,((((m|10090|AAH31502.1:3e-06,m|10090|XP_030100575.1:3e-06):0.018629,m|9031|NP_001006135.1:0.008954):0.003552,(m|8355|NP_001090001.1:0.013669,m|8355|NP_001087972.1:0.019221):0.024038):0.016924,m|8030|ACM08992.1:0.050225):0.061629):0.197749,m|7739|XP_002599796.1:0.198142):0.053826,((m|133434|XP_022104037.1:0.125987,m|307972|PIK49828.1:0.354648):0.073953,m|10224|XP_002738900.1:0.120915):0.066853):0.028818,(m|45264|XP_029212246.1:0.314019,m|400682|XP_003382691.3:0.415858):0.109644):0.018771);\n"
     ]
    }
   ],
   "source": [
    "t = tree.copy()\n",
    "nodes = list(t.traverse())\n",
    "for i in range(len(nodes)):\n",
    "    node = nodes[i]\n",
    "    AD = ADs[i]\n",
    "    if AD < 0.30:\n",
    "        node.name = str(AD)\n",
    "    elif not node.is_leaf():\n",
    "        node.name = \"\"\n",
    "        \n",
    "print(t.write(format=1))"
   ]
  },
  {
   "cell_type": "code",
   "execution_count": null,
   "metadata": {},
   "outputs": [],
   "source": []
  }
 ],
 "metadata": {
  "kernelspec": {
   "display_name": "Python 3",
   "language": "python",
   "name": "python3"
  },
  "language_info": {
   "codemirror_mode": {
    "name": "ipython",
    "version": 3
   },
   "file_extension": ".py",
   "mimetype": "text/x-python",
   "name": "python",
   "nbconvert_exporter": "python",
   "pygments_lexer": "ipython3",
   "version": "3.8.5"
  }
 },
 "nbformat": 4,
 "nbformat_minor": 4
}
